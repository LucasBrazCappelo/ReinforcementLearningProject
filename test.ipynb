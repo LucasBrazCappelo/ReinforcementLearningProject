{
 "cells": [
  {
   "cell_type": "code",
   "execution_count": 1,
   "metadata": {},
   "outputs": [
    {
     "name": "stdout",
     "output_type": "stream",
     "text": [
      "-------------------------------------------\n",
      "Game end, winner is player O\n",
      "Optimal player = O\n",
      "RL Agent player = X\n",
      "|- - X|\n",
      "|O O O|\n",
      "|- X X|\n",
      "\n",
      "-------------------------------------------\n",
      "Game end, winner is player None\n",
      "Optimal player = X\n",
      "RL Agent player = O\n",
      "|O O X|\n",
      "|X X O|\n",
      "|O X X|\n",
      "\n",
      "-------------------------------------------\n",
      "Game end, winner is player O\n",
      "Optimal player = O\n",
      "RL Agent player = X\n",
      "|- X X|\n",
      "|X O X|\n",
      "|O O O|\n",
      "\n",
      "-------------------------------------------\n",
      "Game end, winner is player O\n",
      "Optimal player = O\n",
      "RL Agent player = X\n",
      "|O X -|\n",
      "|O O X|\n",
      "|O X X|\n",
      "\n",
      "-------------------------------------------\n",
      "Game end, winner is player X\n",
      "Optimal player = X\n",
      "RL Agent player = O\n",
      "|X O O|\n",
      "|X X -|\n",
      "|X - O|\n",
      "\n"
     ]
    }
   ],
   "source": [
    "from Qlearning import QlearningAgent\n",
    "import numpy as np\n",
    "from tic_env import TictactoeEnv, OptimalPlayer\n",
    "env = TictactoeEnv()\n",
    "\n",
    "Turns = np.array(['X','O'])\n",
    "for i in range(5):\n",
    "    env.reset()\n",
    "    grid, _, __ = env.observe()\n",
    "    Turns = Turns[np.random.permutation(2)]\n",
    "\n",
    "    player_opt = OptimalPlayer(epsilon=0.5, player=Turns[0])\n",
    "    agent = QlearningAgent(epsilon=0.5, player=Turns[1])\n",
    "\n",
    "    for roundGame in range(9):\n",
    "        if env.current_player == player_opt.player:\n",
    "            if (roundGame > 1) and isinstance(player_opt, QlearningAgent):\n",
    "                player_opt.learn(grid, 0)\n",
    "            move = player_opt.act(grid)\n",
    "        else:\n",
    "            if (roundGame > 1) and isinstance(agent, QlearningAgent):\n",
    "                agent.learn(grid, 0)\n",
    "            move = agent.act(grid)            \n",
    "\n",
    "        grid, end, winner = env.step(move, print_grid=False)\n",
    "\n",
    "        if end:\n",
    "            if isinstance(player_opt, QlearningAgent):\n",
    "                if winner == player_opt.player:\n",
    "                    player_opt.learn(grid, 1, end=True)\n",
    "                elif winner == agent.player:\n",
    "                    player_opt.learn(grid, -1, end=True)\n",
    "                else:\n",
    "                    player_opt.learn(grid, 0, end=True)\n",
    "            if isinstance(agent, QlearningAgent):\n",
    "                if winner == agent.player:\n",
    "                    agent.learn(grid, 1, end=True)\n",
    "                elif winner == player_opt.player:\n",
    "                    agent.learn(grid, -1, end=True)\n",
    "                else:\n",
    "                    agent.learn(grid, 0, end=True)\n",
    "            print(\"-------------------------------------------\")\n",
    "            print(f\"Game end, winner is player {winner}\")\n",
    "            print(f\"Optimal player = {Turns[0]}\")\n",
    "            print(f\"RL Agent player = {Turns[1]}\")\n",
    "            env.render()\n",
    "            env.reset()\n",
    "            break\n"
   ]
  },
  {
   "cell_type": "markdown",
   "metadata": {},
   "source": [
    "."
   ]
  }
 ],
 "metadata": {
  "interpreter": {
   "hash": "b3ba2566441a7c06988d0923437866b63cedc61552a5af99d1f4fb67d367b25f"
  },
  "kernelspec": {
   "display_name": "Python 3.8.8 ('base')",
   "language": "python",
   "name": "python3"
  },
  "language_info": {
   "codemirror_mode": {
    "name": "ipython",
    "version": 3
   },
   "file_extension": ".py",
   "mimetype": "text/x-python",
   "name": "python",
   "nbconvert_exporter": "python",
   "pygments_lexer": "ipython3",
   "version": "3.8.8"
  },
  "orig_nbformat": 4
 },
 "nbformat": 4,
 "nbformat_minor": 2
}
