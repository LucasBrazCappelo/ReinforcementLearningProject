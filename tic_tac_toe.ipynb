{
 "cells": [
  {
   "cell_type": "markdown",
   "metadata": {},
   "source": [
    "# BRAZ Lucas & DURAND Pierre-Alain\n",
    "## SCIPER: 343141 & SCIPER: 344313"
   ]
  },
  {
   "cell_type": "code",
   "execution_count": 1,
   "metadata": {},
   "outputs": [],
   "source": [
    "import numpy as np\n",
    "import random\n",
    "\n",
    "from tic_env import TictactoeEnv, OptimalPlayer\n",
    "\n",
    "import plotly.express as px"
   ]
  },
  {
   "cell_type": "code",
   "execution_count": 2,
   "metadata": {},
   "outputs": [],
   "source": [
    "def play_games(player_opt, agent, maxGames=20_000, env=TictactoeEnv()):\n",
    "    Turns = np.array(['X','O'])\n",
    "    winnerList = np.zeros(maxGames)\n",
    "    for nbGames in range(maxGames):\n",
    "        env.reset()\n",
    "        grid, _, __ = env.observe()\n",
    "\n",
    "        player_opt.player = Turns[nbGames%2]\n",
    "        agent.player = Turns[(nbGames+1)%2]\n",
    "\n",
    "        for roundGame in range(9):\n",
    "            if env.current_player == player_opt.player:\n",
    "                move = player_opt.act(grid)\n",
    "            else:\n",
    "                if roundGame > 1:\n",
    "                    agent.learn(grid, 0)\n",
    "                move = agent.act(grid)            \n",
    "\n",
    "            grid, end, winner = env.step(move, print_grid=False)\n",
    "\n",
    "            if end:\n",
    "                if winner == agent.player:\n",
    "                    winnerList[nbGames] = 1\n",
    "                    agent.learn(grid, 1, end=True)\n",
    "                elif winner == player_opt.player:\n",
    "                    winnerList[nbGames] = -1\n",
    "                    agent.learn(grid, -1, end=True)\n",
    "                else:\n",
    "                    agent.learn(grid, 0, end=True)\n",
    "                break\n",
    "    env.reset()\n",
    "    return winnerList"
   ]
  },
  {
   "cell_type": "markdown",
   "metadata": {},
   "source": [
    "# 2 *Q*-Learning"
   ]
  },
  {
   "cell_type": "code",
   "execution_count": 3,
   "metadata": {},
   "outputs": [],
   "source": [
    "class Qtable:\n",
    "    def __init__(self, Qtab={}, defaultValue=0.0):\n",
    "        self.Qtab = Qtab\n",
    "        self.defaultValue = defaultValue\n",
    "\n",
    "    def hash(self, state_action):\n",
    "        \"\"\"\n",
    "        hash a state-action tuple to a unique integer. Each element of the grid (state) has 3 states, \n",
    "        same for the action position.\n",
    "        Then, we consider the state-action pair as a base 3 number, and we hash it to an integer.\n",
    "        Can be easily recover from hash to state-action pair.\n",
    "        \"\"\"\n",
    "        state, action = state_action\n",
    "\n",
    "        hashState = (state.flatten()+1)@np.array([3**0,3**1,3**2,3**3,3**4,3**5,3**6,3**7,3**8])\n",
    "        hashAction = action[0]*3**9 + action[1]*3**10\n",
    "        return hashState + hashAction\n",
    "    \n",
    "    def __getitem__(self, key: tuple):\n",
    "        return self.Qtab.get(self.hash(key), self.defaultValue)\n",
    "\n",
    "    def __setitem__(self, key: tuple, value):\n",
    "        self.Qtab[self.hash(key)] = value"
   ]
  },
  {
   "cell_type": "code",
   "execution_count": 4,
   "metadata": {},
   "outputs": [],
   "source": [
    "class QlearningAgent:\n",
    "    \"\"\"\n",
    "    Description:\n",
    "        A class to implement an epsilon-greedy Qlearning Agent in Tic-tac-toe.\n",
    "\n",
    "    Parameters:\n",
    "        epsilon: float, in [0, 1]. This is a value between 0-1 that indicates the\n",
    "            probability of making a random action instead of the greedy action\n",
    "            at any given time.\n",
    "\n",
    "        learningRate: float, in [0, 1]. Setting it to 0 means that the Q-values are\n",
    "            never updated, hence nothing is learned. Setting a high value such as 0.9 \n",
    "            means that learning can occur quickly. \n",
    "        \n",
    "        discountFactor: float, in [0, 1]. This models the fact that future rewards are\n",
    "            worth less than immediate rewards. Setting it to 0 means that the agent\n",
    "            will only learn from immediate rewards. Setting it to 1 means that the\n",
    "            agent will learn from all rewards equally.\n",
    "    \"\"\"\n",
    "\n",
    "    def __init__(self, epsilon=0.2, player='X', learningRate=0.05, discountFactor=0.99, Q={}, Q_defaultValue=0.0, n_max=100):\n",
    "        if isinstance(epsilon, tuple):\n",
    "            self.epsilon_min, self.epsilon_max = epsilon\n",
    "            self.epsilon = self.epsilon_max\n",
    "        else:\n",
    "            self.epsilon = epsilon\n",
    "            self.epsilon_min = epsilon\n",
    "            self.epsilon_max = epsilon\n",
    "        self.learningRate = learningRate\n",
    "        self.discountFactor = discountFactor\n",
    "\n",
    "        self.Q = Qtable(Q, Q_defaultValue)\n",
    "        self.state = None\n",
    "        self.action = None\n",
    "\n",
    "        self.n = 0\n",
    "        self.n_max = n_max\n",
    "\n",
    "        self.isLearning = True\n",
    "\n",
    "        self.player = player # 'X' or 'O'\n",
    "\n",
    "    def decrease_epsilon(self):\n",
    "        self.epsilon = max(self.epsilon_min, self.epsilon_max * (1 - self.n / self.n_max))\n",
    "\n",
    "\n",
    "    def set_player(self, player = 'X', j=-1):\n",
    "        self.player = player\n",
    "        if j != -1:\n",
    "            self.player = 'X' if j % 2 == 0 else 'O'\n",
    "\n",
    "    def empty(self, state):\n",
    "        \"\"\" Return all empty positions. \"\"\"\n",
    "        availableActions = []\n",
    "        for x in range(3):\n",
    "            for y in range(3):\n",
    "                position = (x, y)\n",
    "                if state[position] == 0:\n",
    "                    availableActions.append(position)\n",
    "        return availableActions\n",
    "\n",
    "    def randomAction(self, state):\n",
    "        \"\"\" Choose a random action from the available options. \"\"\"\n",
    "        availableActions = self.empty(state)\n",
    "\n",
    "        return random.choice(availableActions)\n",
    "\n",
    "    def bestAction(self, state):\n",
    "        \"\"\"\n",
    "        Choose the available actions which have a maximum expected future reward. \n",
    "        If there are multiple actions with the same maximum expected future reward,\n",
    "        choose one of them at random.\n",
    "        \"\"\"\n",
    "        # Get the available moves\n",
    "        availableActions = self.empty(state)\n",
    "\n",
    "        # Get the best move\n",
    "        bestActions = []\n",
    "        bestValue = -999.0\n",
    "        for action in availableActions:\n",
    "            Qsa = self.Q[(state, action)]\n",
    "            if Qsa == bestValue:\n",
    "                bestActions.append(action)\n",
    "            if Qsa > bestValue:\n",
    "                bestActions = [action]\n",
    "                bestValue = Qsa\n",
    "\n",
    "        return random.choice(bestActions)\n",
    "\n",
    "    def act(self, state):\n",
    "        \"\"\"\n",
    "        epsilon-greedy action selection, according to the Q-table.\n",
    "        \"\"\"\n",
    "        self.state = state\n",
    "\n",
    "        # whether move in random or not\n",
    "        if random.random() < self.epsilon:\n",
    "            self.action = self.randomAction(state)\n",
    "        else:\n",
    "            # Get the best move\n",
    "            self.action = self.bestAction(state)\n",
    "\n",
    "        return self.action\n",
    "\n",
    "    def learn(self, s_prime, reward, end=False):\n",
    "        \"\"\"\n",
    "        Q-learning update. If it's the end of a game, we set Q(s',a') = 0.\n",
    "        \"\"\"\n",
    "        if self.isLearning:\n",
    "            if not end:\n",
    "                # Get the best move\n",
    "                a_prime = self.bestAction(s_prime)\n",
    "\n",
    "                # Update the Q-value\n",
    "                self.Q[(self.state, self.action)] += self.learningRate * (reward + self.discountFactor * self.Q[(s_prime, a_prime)] - self.Q[(self.state, self.action)])\n",
    "            else:\n",
    "                self.Q[(self.state, self.action)] += self.learningRate * (reward - self.Q[(self.state, self.action)])\n",
    "\n",
    "                self.state = None\n",
    "                self.action = None\n",
    "\n",
    "                self.n += 1\n",
    "                self.decrease_epsilon()"
   ]
  },
  {
   "cell_type": "markdown",
   "metadata": {},
   "source": [
    "## 2.1 Learning from experts"
   ]
  },
  {
   "cell_type": "markdown",
   "metadata": {},
   "source": [
    "#### Question 1"
   ]
  },
  {
   "cell_type": "code",
   "execution_count": 5,
   "metadata": {},
   "outputs": [
    {
     "data": {
      "application/vnd.plotly.v1+json": {
       "config": {
        "plotlyServerURL": "https://plot.ly"
       },
       "data": [
        {
         "hovertemplate": "x=%{x}<br>y=%{y}<extra></extra>",
         "legendgroup": "",
         "line": {
          "color": "#636efa",
          "dash": "solid"
         },
         "marker": {
          "symbol": "circle"
         },
         "mode": "lines",
         "name": "",
         "orientation": "v",
         "showlegend": false,
         "type": "scatter",
         "x": [
          0,
          50,
          100,
          150,
          200,
          250,
          300,
          350,
          400,
          450,
          500,
          550,
          600,
          650,
          700,
          750,
          800,
          850,
          900,
          950,
          1000,
          1050,
          1100,
          1150,
          1200,
          1250,
          1300,
          1350,
          1400,
          1450,
          1500,
          1550,
          1600,
          1650,
          1700,
          1750,
          1800,
          1850,
          1900,
          1950,
          2000,
          2050,
          2100,
          2150,
          2200,
          2250,
          2300,
          2350,
          2400,
          2450,
          2500,
          2550,
          2600,
          2650,
          2700,
          2750,
          2800,
          2850,
          2900,
          2950,
          3000,
          3050,
          3100,
          3150,
          3200,
          3250,
          3300,
          3350,
          3400,
          3450,
          3500,
          3550,
          3600,
          3650,
          3700,
          3750,
          3800,
          3850,
          3900,
          3950,
          4000,
          4050,
          4100,
          4150,
          4200,
          4250,
          4300,
          4350,
          4400,
          4450,
          4500,
          4550,
          4600,
          4650,
          4700,
          4750,
          4800,
          4850,
          4900,
          4950,
          5000,
          5050,
          5100,
          5150,
          5200,
          5250,
          5300,
          5350,
          5400,
          5450,
          5500,
          5550,
          5600,
          5650,
          5700,
          5750,
          5800,
          5850,
          5900,
          5950,
          6000,
          6050,
          6100,
          6150,
          6200,
          6250,
          6300,
          6350,
          6400,
          6450,
          6500,
          6550,
          6600,
          6650,
          6700,
          6750,
          6800,
          6850,
          6900,
          6950,
          7000,
          7050,
          7100,
          7150,
          7200,
          7250,
          7300,
          7350,
          7400,
          7450,
          7500,
          7550,
          7600,
          7650,
          7700,
          7750,
          7800,
          7850,
          7900,
          7950,
          8000,
          8050,
          8100,
          8150,
          8200,
          8250,
          8300,
          8350,
          8400,
          8450,
          8500,
          8550,
          8600,
          8650,
          8700,
          8750,
          8800,
          8850,
          8900,
          8950,
          9000,
          9050,
          9100,
          9150,
          9200,
          9250,
          9300,
          9350,
          9400,
          9450,
          9500,
          9550,
          9600,
          9650,
          9700,
          9750,
          9800,
          9850,
          9900,
          9950,
          10000,
          10050,
          10100,
          10150,
          10200,
          10250,
          10300,
          10350,
          10400,
          10450,
          10500,
          10550,
          10600,
          10650,
          10700,
          10750,
          10800,
          10850,
          10900,
          10950,
          11000,
          11050,
          11100,
          11150,
          11200,
          11250,
          11300,
          11350,
          11400,
          11450,
          11500,
          11550,
          11600,
          11650,
          11700,
          11750,
          11800,
          11850,
          11900,
          11950,
          12000,
          12050,
          12100,
          12150,
          12200,
          12250,
          12300,
          12350,
          12400,
          12450,
          12500,
          12550,
          12600,
          12650,
          12700,
          12750,
          12800,
          12850,
          12900,
          12950,
          13000,
          13050,
          13100,
          13150,
          13200,
          13250,
          13300,
          13350,
          13400,
          13450,
          13500,
          13550,
          13600,
          13650,
          13700,
          13750,
          13800,
          13850,
          13900,
          13950,
          14000,
          14050,
          14100,
          14150,
          14200,
          14250,
          14300,
          14350,
          14400,
          14450,
          14500,
          14550,
          14600,
          14650,
          14700,
          14750,
          14800,
          14850,
          14900,
          14950,
          15000,
          15050,
          15100,
          15150,
          15200,
          15250,
          15300,
          15350,
          15400,
          15450,
          15500,
          15550,
          15600,
          15650,
          15700,
          15750,
          15800,
          15850,
          15900,
          15950,
          16000,
          16050,
          16100,
          16150,
          16200,
          16250,
          16300,
          16350,
          16400,
          16450,
          16500,
          16550,
          16600,
          16650,
          16700,
          16750,
          16800,
          16850,
          16900,
          16950,
          17000,
          17050,
          17100,
          17150,
          17200,
          17250,
          17300,
          17350,
          17400,
          17450,
          17500,
          17550,
          17600,
          17650,
          17700,
          17750,
          17800,
          17850,
          17900,
          17950,
          18000,
          18050,
          18100,
          18150,
          18200,
          18250,
          18300,
          18350,
          18400,
          18450,
          18500,
          18550,
          18600,
          18650,
          18700,
          18750,
          18800,
          18850,
          18900,
          18950,
          19000,
          19050,
          19100,
          19150,
          19200,
          19250,
          19300,
          19350,
          19400,
          19450,
          19500,
          19550,
          19600,
          19650,
          19700,
          19750,
          19800,
          19850,
          19900
         ],
         "xaxis": "x",
         "y": [
          -0.56,
          -0.58,
          -0.48,
          -0.6,
          -0.7,
          -0.76,
          -0.44,
          -0.58,
          -0.46,
          -0.68,
          -0.38,
          -0.56,
          -0.48,
          -0.4,
          -0.46,
          -0.32,
          -0.5,
          -0.26,
          -0.62,
          -0.64,
          -0.42,
          -0.56,
          -0.42,
          -0.26,
          -0.38,
          -0.16,
          -0.44,
          -0.56,
          -0.32,
          -0.36,
          -0.4,
          -0.22,
          -0.26,
          -0.3,
          -0.3,
          -0.5,
          -0.26,
          -0.32,
          -0.32,
          -0.34,
          -0.4,
          -0.06,
          -0.24,
          -0.22,
          -0.12,
          -0.18,
          -0.18,
          -0.3,
          -0.34,
          -0.2,
          -0.44,
          -0.36,
          -0.28,
          -0.24,
          -0.34,
          0,
          -0.06,
          -0.28,
          -0.2,
          -0.08,
          0.04,
          -0.3,
          -0.28,
          -0.24,
          -0.16,
          -0.16,
          -0.1,
          -0.06,
          -0.16,
          -0.04,
          -0.16,
          -0.22,
          -0.34,
          -0.16,
          -0.02,
          -0.36,
          -0.18,
          -0.22,
          -0.3,
          -0.22,
          -0.28,
          -0.26,
          -0.26,
          -0.24,
          -0.06,
          0.08,
          -0.18,
          -0.24,
          -0.02,
          -0.24,
          -0.22,
          -0.2,
          -0.06,
          -0.2,
          -0.16,
          -0.1,
          0.2,
          -0.16,
          -0.16,
          -0.22,
          -0.38,
          -0.3,
          0.08,
          -0.26,
          -0.02,
          -0.28,
          -0.08,
          -0.24,
          -0.14,
          -0.2,
          -0.12,
          -0.06,
          -0.36,
          -0.1,
          0,
          -0.16,
          -0.2,
          -0.34,
          -0.02,
          -0.02,
          0,
          0.02,
          -0.28,
          -0.16,
          -0.16,
          -0.2,
          -0.22,
          -0.12,
          -0.04,
          -0.22,
          -0.22,
          -0.24,
          -0.1,
          0,
          -0.22,
          -0.12,
          0.16,
          -0.18,
          -0.16,
          -0.18,
          0.02,
          -0.24,
          -0.28,
          -0.06,
          0,
          -0.14,
          -0.06,
          -0.26,
          -0.18,
          -0.4,
          -0.08,
          -0.08,
          0.04,
          -0.12,
          -0.12,
          -0.14,
          0,
          -0.18,
          0,
          0.02,
          -0.22,
          0.16,
          -0.2,
          0.06,
          -0.06,
          -0.1,
          -0.22,
          -0.24,
          -0.16,
          -0.08,
          -0.14,
          -0.06,
          -0.02,
          -0.08,
          0.04,
          -0.14,
          0.14,
          -0.06,
          -0.12,
          0.06,
          -0.1,
          -0.12,
          -0.1,
          -0.2,
          0.04,
          -0.2,
          0.18,
          -0.34,
          0.12,
          -0.14,
          -0.1,
          -0.14,
          0.06,
          -0.3,
          0.3,
          0.04,
          -0.22,
          -0.1,
          -0.2,
          0.06,
          0,
          -0.02,
          -0.08,
          -0.2,
          -0.02,
          -0.04,
          -0.1,
          0,
          0.08,
          0,
          -0.3,
          0.22,
          -0.2,
          -0.12,
          -0.14,
          -0.1,
          -0.16,
          0.04,
          -0.1,
          0,
          -0.14,
          -0.18,
          -0.04,
          -0.06,
          -0.08,
          -0.2,
          -0.08,
          -0.08,
          0.06,
          0.02,
          -0.08,
          -0.14,
          0.12,
          -0.08,
          -0.02,
          -0.02,
          0.08,
          -0.12,
          0.08,
          -0.06,
          -0.12,
          0.06,
          0.02,
          -0.1,
          -0.2,
          0.1,
          -0.12,
          -0.02,
          -0.02,
          -0.18,
          -0.18,
          -0.02,
          0,
          -0.04,
          -0.12,
          0.1,
          -0.18,
          0.18,
          -0.08,
          0.1,
          0.04,
          -0.02,
          0.08,
          0.04,
          0.12,
          -0.12,
          -0.34,
          0.18,
          -0.16,
          0.04,
          -0.16,
          0.14,
          0.08,
          0.08,
          0,
          -0.04,
          -0.08,
          -0.18,
          -0.18,
          0.14,
          -0.16,
          -0.16,
          0.12,
          -0.02,
          -0.02,
          -0.12,
          -0.2,
          -0.06,
          -0.02,
          -0.12,
          0.22,
          -0.08,
          0.06,
          -0.16,
          -0.02,
          0.06,
          -0.2,
          0,
          -0.26,
          -0.08,
          0.1,
          -0.1,
          0.08,
          0.08,
          0.04,
          -0.04,
          -0.04,
          -0.3,
          0.08,
          0.02,
          -0.16,
          -0.1,
          0,
          -0.04,
          0.02,
          0.04,
          0.2,
          -0.02,
          0.24,
          -0.04,
          -0.08,
          -0.02,
          -0.1,
          -0.1,
          -0.08,
          0.02,
          0.12,
          -0.04,
          -0.14,
          -0.04,
          -0.08,
          -0.02,
          0.14,
          -0.14,
          -0.08,
          0.12,
          0.02,
          -0.12,
          -0.18,
          -0.1,
          0.06,
          0.1,
          -0.02,
          -0.04,
          -0.12,
          0.04,
          -0.18,
          0,
          -0.1,
          -0.12,
          0.08,
          -0.12,
          -0.18,
          0.06,
          -0.02,
          0.06,
          0.02,
          0,
          0.14,
          0.06,
          0.06,
          -0.14,
          0.12,
          -0.02,
          -0.08,
          0,
          0.06,
          -0.14,
          0.22,
          -0.04,
          0.1,
          -0.04,
          0.14,
          0.06,
          -0.02,
          0.1,
          0.08,
          -0.22,
          -0.1,
          -0.26,
          0.06,
          0.02,
          -0.08,
          0,
          0.12,
          0,
          0.08,
          -0.06,
          -0.04,
          0.18,
          0.12,
          -0.18,
          -0.04,
          0,
          0.04,
          0.12,
          -0.22,
          -0.02,
          0.16
         ],
         "yaxis": "y"
        }
       ],
       "layout": {
        "legend": {
         "tracegroupgap": 0
        },
        "template": {
         "data": {
          "bar": [
           {
            "error_x": {
             "color": "#2a3f5f"
            },
            "error_y": {
             "color": "#2a3f5f"
            },
            "marker": {
             "line": {
              "color": "#E5ECF6",
              "width": 0.5
             },
             "pattern": {
              "fillmode": "overlay",
              "size": 10,
              "solidity": 0.2
             }
            },
            "type": "bar"
           }
          ],
          "barpolar": [
           {
            "marker": {
             "line": {
              "color": "#E5ECF6",
              "width": 0.5
             },
             "pattern": {
              "fillmode": "overlay",
              "size": 10,
              "solidity": 0.2
             }
            },
            "type": "barpolar"
           }
          ],
          "carpet": [
           {
            "aaxis": {
             "endlinecolor": "#2a3f5f",
             "gridcolor": "white",
             "linecolor": "white",
             "minorgridcolor": "white",
             "startlinecolor": "#2a3f5f"
            },
            "baxis": {
             "endlinecolor": "#2a3f5f",
             "gridcolor": "white",
             "linecolor": "white",
             "minorgridcolor": "white",
             "startlinecolor": "#2a3f5f"
            },
            "type": "carpet"
           }
          ],
          "choropleth": [
           {
            "colorbar": {
             "outlinewidth": 0,
             "ticks": ""
            },
            "type": "choropleth"
           }
          ],
          "contour": [
           {
            "colorbar": {
             "outlinewidth": 0,
             "ticks": ""
            },
            "colorscale": [
             [
              0,
              "#0d0887"
             ],
             [
              0.1111111111111111,
              "#46039f"
             ],
             [
              0.2222222222222222,
              "#7201a8"
             ],
             [
              0.3333333333333333,
              "#9c179e"
             ],
             [
              0.4444444444444444,
              "#bd3786"
             ],
             [
              0.5555555555555556,
              "#d8576b"
             ],
             [
              0.6666666666666666,
              "#ed7953"
             ],
             [
              0.7777777777777778,
              "#fb9f3a"
             ],
             [
              0.8888888888888888,
              "#fdca26"
             ],
             [
              1,
              "#f0f921"
             ]
            ],
            "type": "contour"
           }
          ],
          "contourcarpet": [
           {
            "colorbar": {
             "outlinewidth": 0,
             "ticks": ""
            },
            "type": "contourcarpet"
           }
          ],
          "heatmap": [
           {
            "colorbar": {
             "outlinewidth": 0,
             "ticks": ""
            },
            "colorscale": [
             [
              0,
              "#0d0887"
             ],
             [
              0.1111111111111111,
              "#46039f"
             ],
             [
              0.2222222222222222,
              "#7201a8"
             ],
             [
              0.3333333333333333,
              "#9c179e"
             ],
             [
              0.4444444444444444,
              "#bd3786"
             ],
             [
              0.5555555555555556,
              "#d8576b"
             ],
             [
              0.6666666666666666,
              "#ed7953"
             ],
             [
              0.7777777777777778,
              "#fb9f3a"
             ],
             [
              0.8888888888888888,
              "#fdca26"
             ],
             [
              1,
              "#f0f921"
             ]
            ],
            "type": "heatmap"
           }
          ],
          "heatmapgl": [
           {
            "colorbar": {
             "outlinewidth": 0,
             "ticks": ""
            },
            "colorscale": [
             [
              0,
              "#0d0887"
             ],
             [
              0.1111111111111111,
              "#46039f"
             ],
             [
              0.2222222222222222,
              "#7201a8"
             ],
             [
              0.3333333333333333,
              "#9c179e"
             ],
             [
              0.4444444444444444,
              "#bd3786"
             ],
             [
              0.5555555555555556,
              "#d8576b"
             ],
             [
              0.6666666666666666,
              "#ed7953"
             ],
             [
              0.7777777777777778,
              "#fb9f3a"
             ],
             [
              0.8888888888888888,
              "#fdca26"
             ],
             [
              1,
              "#f0f921"
             ]
            ],
            "type": "heatmapgl"
           }
          ],
          "histogram": [
           {
            "marker": {
             "pattern": {
              "fillmode": "overlay",
              "size": 10,
              "solidity": 0.2
             }
            },
            "type": "histogram"
           }
          ],
          "histogram2d": [
           {
            "colorbar": {
             "outlinewidth": 0,
             "ticks": ""
            },
            "colorscale": [
             [
              0,
              "#0d0887"
             ],
             [
              0.1111111111111111,
              "#46039f"
             ],
             [
              0.2222222222222222,
              "#7201a8"
             ],
             [
              0.3333333333333333,
              "#9c179e"
             ],
             [
              0.4444444444444444,
              "#bd3786"
             ],
             [
              0.5555555555555556,
              "#d8576b"
             ],
             [
              0.6666666666666666,
              "#ed7953"
             ],
             [
              0.7777777777777778,
              "#fb9f3a"
             ],
             [
              0.8888888888888888,
              "#fdca26"
             ],
             [
              1,
              "#f0f921"
             ]
            ],
            "type": "histogram2d"
           }
          ],
          "histogram2dcontour": [
           {
            "colorbar": {
             "outlinewidth": 0,
             "ticks": ""
            },
            "colorscale": [
             [
              0,
              "#0d0887"
             ],
             [
              0.1111111111111111,
              "#46039f"
             ],
             [
              0.2222222222222222,
              "#7201a8"
             ],
             [
              0.3333333333333333,
              "#9c179e"
             ],
             [
              0.4444444444444444,
              "#bd3786"
             ],
             [
              0.5555555555555556,
              "#d8576b"
             ],
             [
              0.6666666666666666,
              "#ed7953"
             ],
             [
              0.7777777777777778,
              "#fb9f3a"
             ],
             [
              0.8888888888888888,
              "#fdca26"
             ],
             [
              1,
              "#f0f921"
             ]
            ],
            "type": "histogram2dcontour"
           }
          ],
          "mesh3d": [
           {
            "colorbar": {
             "outlinewidth": 0,
             "ticks": ""
            },
            "type": "mesh3d"
           }
          ],
          "parcoords": [
           {
            "line": {
             "colorbar": {
              "outlinewidth": 0,
              "ticks": ""
             }
            },
            "type": "parcoords"
           }
          ],
          "pie": [
           {
            "automargin": true,
            "type": "pie"
           }
          ],
          "scatter": [
           {
            "marker": {
             "colorbar": {
              "outlinewidth": 0,
              "ticks": ""
             }
            },
            "type": "scatter"
           }
          ],
          "scatter3d": [
           {
            "line": {
             "colorbar": {
              "outlinewidth": 0,
              "ticks": ""
             }
            },
            "marker": {
             "colorbar": {
              "outlinewidth": 0,
              "ticks": ""
             }
            },
            "type": "scatter3d"
           }
          ],
          "scattercarpet": [
           {
            "marker": {
             "colorbar": {
              "outlinewidth": 0,
              "ticks": ""
             }
            },
            "type": "scattercarpet"
           }
          ],
          "scattergeo": [
           {
            "marker": {
             "colorbar": {
              "outlinewidth": 0,
              "ticks": ""
             }
            },
            "type": "scattergeo"
           }
          ],
          "scattergl": [
           {
            "marker": {
             "colorbar": {
              "outlinewidth": 0,
              "ticks": ""
             }
            },
            "type": "scattergl"
           }
          ],
          "scattermapbox": [
           {
            "marker": {
             "colorbar": {
              "outlinewidth": 0,
              "ticks": ""
             }
            },
            "type": "scattermapbox"
           }
          ],
          "scatterpolar": [
           {
            "marker": {
             "colorbar": {
              "outlinewidth": 0,
              "ticks": ""
             }
            },
            "type": "scatterpolar"
           }
          ],
          "scatterpolargl": [
           {
            "marker": {
             "colorbar": {
              "outlinewidth": 0,
              "ticks": ""
             }
            },
            "type": "scatterpolargl"
           }
          ],
          "scatterternary": [
           {
            "marker": {
             "colorbar": {
              "outlinewidth": 0,
              "ticks": ""
             }
            },
            "type": "scatterternary"
           }
          ],
          "surface": [
           {
            "colorbar": {
             "outlinewidth": 0,
             "ticks": ""
            },
            "colorscale": [
             [
              0,
              "#0d0887"
             ],
             [
              0.1111111111111111,
              "#46039f"
             ],
             [
              0.2222222222222222,
              "#7201a8"
             ],
             [
              0.3333333333333333,
              "#9c179e"
             ],
             [
              0.4444444444444444,
              "#bd3786"
             ],
             [
              0.5555555555555556,
              "#d8576b"
             ],
             [
              0.6666666666666666,
              "#ed7953"
             ],
             [
              0.7777777777777778,
              "#fb9f3a"
             ],
             [
              0.8888888888888888,
              "#fdca26"
             ],
             [
              1,
              "#f0f921"
             ]
            ],
            "type": "surface"
           }
          ],
          "table": [
           {
            "cells": {
             "fill": {
              "color": "#EBF0F8"
             },
             "line": {
              "color": "white"
             }
            },
            "header": {
             "fill": {
              "color": "#C8D4E3"
             },
             "line": {
              "color": "white"
             }
            },
            "type": "table"
           }
          ]
         },
         "layout": {
          "annotationdefaults": {
           "arrowcolor": "#2a3f5f",
           "arrowhead": 0,
           "arrowwidth": 1
          },
          "autotypenumbers": "strict",
          "coloraxis": {
           "colorbar": {
            "outlinewidth": 0,
            "ticks": ""
           }
          },
          "colorscale": {
           "diverging": [
            [
             0,
             "#8e0152"
            ],
            [
             0.1,
             "#c51b7d"
            ],
            [
             0.2,
             "#de77ae"
            ],
            [
             0.3,
             "#f1b6da"
            ],
            [
             0.4,
             "#fde0ef"
            ],
            [
             0.5,
             "#f7f7f7"
            ],
            [
             0.6,
             "#e6f5d0"
            ],
            [
             0.7,
             "#b8e186"
            ],
            [
             0.8,
             "#7fbc41"
            ],
            [
             0.9,
             "#4d9221"
            ],
            [
             1,
             "#276419"
            ]
           ],
           "sequential": [
            [
             0,
             "#0d0887"
            ],
            [
             0.1111111111111111,
             "#46039f"
            ],
            [
             0.2222222222222222,
             "#7201a8"
            ],
            [
             0.3333333333333333,
             "#9c179e"
            ],
            [
             0.4444444444444444,
             "#bd3786"
            ],
            [
             0.5555555555555556,
             "#d8576b"
            ],
            [
             0.6666666666666666,
             "#ed7953"
            ],
            [
             0.7777777777777778,
             "#fb9f3a"
            ],
            [
             0.8888888888888888,
             "#fdca26"
            ],
            [
             1,
             "#f0f921"
            ]
           ],
           "sequentialminus": [
            [
             0,
             "#0d0887"
            ],
            [
             0.1111111111111111,
             "#46039f"
            ],
            [
             0.2222222222222222,
             "#7201a8"
            ],
            [
             0.3333333333333333,
             "#9c179e"
            ],
            [
             0.4444444444444444,
             "#bd3786"
            ],
            [
             0.5555555555555556,
             "#d8576b"
            ],
            [
             0.6666666666666666,
             "#ed7953"
            ],
            [
             0.7777777777777778,
             "#fb9f3a"
            ],
            [
             0.8888888888888888,
             "#fdca26"
            ],
            [
             1,
             "#f0f921"
            ]
           ]
          },
          "colorway": [
           "#636efa",
           "#EF553B",
           "#00cc96",
           "#ab63fa",
           "#FFA15A",
           "#19d3f3",
           "#FF6692",
           "#B6E880",
           "#FF97FF",
           "#FECB52"
          ],
          "font": {
           "color": "#2a3f5f"
          },
          "geo": {
           "bgcolor": "white",
           "lakecolor": "white",
           "landcolor": "#E5ECF6",
           "showlakes": true,
           "showland": true,
           "subunitcolor": "white"
          },
          "hoverlabel": {
           "align": "left"
          },
          "hovermode": "closest",
          "mapbox": {
           "style": "light"
          },
          "paper_bgcolor": "white",
          "plot_bgcolor": "#E5ECF6",
          "polar": {
           "angularaxis": {
            "gridcolor": "white",
            "linecolor": "white",
            "ticks": ""
           },
           "bgcolor": "#E5ECF6",
           "radialaxis": {
            "gridcolor": "white",
            "linecolor": "white",
            "ticks": ""
           }
          },
          "scene": {
           "xaxis": {
            "backgroundcolor": "#E5ECF6",
            "gridcolor": "white",
            "gridwidth": 2,
            "linecolor": "white",
            "showbackground": true,
            "ticks": "",
            "zerolinecolor": "white"
           },
           "yaxis": {
            "backgroundcolor": "#E5ECF6",
            "gridcolor": "white",
            "gridwidth": 2,
            "linecolor": "white",
            "showbackground": true,
            "ticks": "",
            "zerolinecolor": "white"
           },
           "zaxis": {
            "backgroundcolor": "#E5ECF6",
            "gridcolor": "white",
            "gridwidth": 2,
            "linecolor": "white",
            "showbackground": true,
            "ticks": "",
            "zerolinecolor": "white"
           }
          },
          "shapedefaults": {
           "line": {
            "color": "#2a3f5f"
           }
          },
          "ternary": {
           "aaxis": {
            "gridcolor": "white",
            "linecolor": "white",
            "ticks": ""
           },
           "baxis": {
            "gridcolor": "white",
            "linecolor": "white",
            "ticks": ""
           },
           "bgcolor": "#E5ECF6",
           "caxis": {
            "gridcolor": "white",
            "linecolor": "white",
            "ticks": ""
           }
          },
          "title": {
           "x": 0.05
          },
          "xaxis": {
           "automargin": true,
           "gridcolor": "white",
           "linecolor": "white",
           "ticks": "",
           "title": {
            "standoff": 15
           },
           "zerolinecolor": "white",
           "zerolinewidth": 2
          },
          "yaxis": {
           "automargin": true,
           "gridcolor": "white",
           "linecolor": "white",
           "ticks": "",
           "title": {
            "standoff": 15
           },
           "zerolinecolor": "white",
           "zerolinewidth": 2
          }
         }
        },
        "title": {
         "text": "Average reward over time of RL agent with policy epsilon=0.4"
        },
        "xaxis": {
         "anchor": "y",
         "domain": [
          0,
          1
         ],
         "title": {
          "text": "Game number"
         }
        },
        "yaxis": {
         "anchor": "x",
         "domain": [
          0,
          1
         ],
         "title": {
          "text": "Average reward"
         }
        }
       }
      }
     },
     "metadata": {},
     "output_type": "display_data"
    }
   ],
   "source": [
    "epsilon = 0.4\n",
    "\n",
    "player_opt = OptimalPlayer(epsilon=0.5)\n",
    "agent = QlearningAgent(epsilon=epsilon)\n",
    "\n",
    "winnerList = play_games(player_opt, agent, maxGames=20_000)\n",
    "\n",
    "x = np.arange(winnerList.size//50-1)\n",
    "y = np.zeros(x.shape)\n",
    "for i in x:\n",
    "    y[i] = winnerList[i*50:(i+1)*50].mean()\n",
    "\n",
    "fig = px.line(x=50*x, y=y, title=f'Average reward over time of RL agent with policy epsilon={epsilon}')\n",
    "fig.update_layout(xaxis_title='Game number', yaxis_title='Average reward')\n",
    "fig.show()"
   ]
  },
  {
   "cell_type": "markdown",
   "metadata": {},
   "source": [
    "### 2.1.1 Decreasing exploration"
   ]
  },
  {
   "cell_type": "markdown",
   "metadata": {},
   "source": [
    "#### Question 2"
   ]
  },
  {
   "cell_type": "code",
   "execution_count": 25,
   "metadata": {},
   "outputs": [
    {
     "data": {
      "application/vnd.plotly.v1+json": {
       "config": {
        "plotlyServerURL": "https://plot.ly"
       },
       "data": [
        {
         "hovertemplate": "x=%{x}<br>y=%{y}<extra></extra>",
         "legendgroup": "",
         "line": {
          "color": "#636efa",
          "dash": "solid"
         },
         "marker": {
          "symbol": "circle"
         },
         "mode": "lines",
         "name": "",
         "orientation": "v",
         "showlegend": false,
         "type": "scatter",
         "x": [
          0,
          250,
          500,
          750,
          1000,
          1250,
          1500,
          1750,
          2000,
          2250,
          2500,
          2750,
          3000,
          3250,
          3500,
          3750,
          4000,
          4250,
          4500,
          4750,
          5000,
          5250,
          5500,
          5750,
          6000,
          6250,
          6500,
          6750,
          7000,
          7250,
          7500,
          7750,
          8000,
          8250,
          8500,
          8750,
          9000,
          9250,
          9500,
          9750,
          10000,
          10250,
          10500,
          10750,
          11000,
          11250,
          11500,
          11750,
          12000,
          12250,
          12500,
          12750,
          13000,
          13250,
          13500,
          13750,
          14000,
          14250,
          14500,
          14750,
          15000,
          15250,
          15500,
          15750,
          16000,
          16250,
          16500,
          16750,
          17000,
          17250,
          17500,
          17750,
          18000,
          18250,
          18500,
          18750,
          19000,
          19250,
          19500
         ],
         "xaxis": "x",
         "y": [
          -0.152,
          0.344,
          0.468,
          0.496,
          0.54,
          0.56,
          0.568,
          0.428,
          0.472,
          0.528,
          0.484,
          0.564,
          0.532,
          0.504,
          0.484,
          0.476,
          0.492,
          0.496,
          0.492,
          0.508,
          0.528,
          0.592,
          0.5,
          0.556,
          0.496,
          0.56,
          0.564,
          0.572,
          0.488,
          0.576,
          0.524,
          0.532,
          0.476,
          0.56,
          0.572,
          0.604,
          0.564,
          0.524,
          0.532,
          0.46,
          0.544,
          0.492,
          0.548,
          0.504,
          0.548,
          0.504,
          0.548,
          0.52,
          0.628,
          0.496,
          0.58,
          0.556,
          0.572,
          0.548,
          0.508,
          0.508,
          0.46,
          0.472,
          0.52,
          0.556,
          0.552,
          0.508,
          0.516,
          0.488,
          0.524,
          0.584,
          0.536,
          0.516,
          0.584,
          0.528,
          0.464,
          0.544,
          0.504,
          0.548,
          0.504,
          0.456,
          0.592,
          0.464,
          0.548
         ],
         "yaxis": "y"
        }
       ],
       "layout": {
        "legend": {
         "tracegroupgap": 0
        },
        "template": {
         "data": {
          "bar": [
           {
            "error_x": {
             "color": "#2a3f5f"
            },
            "error_y": {
             "color": "#2a3f5f"
            },
            "marker": {
             "line": {
              "color": "#E5ECF6",
              "width": 0.5
             },
             "pattern": {
              "fillmode": "overlay",
              "size": 10,
              "solidity": 0.2
             }
            },
            "type": "bar"
           }
          ],
          "barpolar": [
           {
            "marker": {
             "line": {
              "color": "#E5ECF6",
              "width": 0.5
             },
             "pattern": {
              "fillmode": "overlay",
              "size": 10,
              "solidity": 0.2
             }
            },
            "type": "barpolar"
           }
          ],
          "carpet": [
           {
            "aaxis": {
             "endlinecolor": "#2a3f5f",
             "gridcolor": "white",
             "linecolor": "white",
             "minorgridcolor": "white",
             "startlinecolor": "#2a3f5f"
            },
            "baxis": {
             "endlinecolor": "#2a3f5f",
             "gridcolor": "white",
             "linecolor": "white",
             "minorgridcolor": "white",
             "startlinecolor": "#2a3f5f"
            },
            "type": "carpet"
           }
          ],
          "choropleth": [
           {
            "colorbar": {
             "outlinewidth": 0,
             "ticks": ""
            },
            "type": "choropleth"
           }
          ],
          "contour": [
           {
            "colorbar": {
             "outlinewidth": 0,
             "ticks": ""
            },
            "colorscale": [
             [
              0,
              "#0d0887"
             ],
             [
              0.1111111111111111,
              "#46039f"
             ],
             [
              0.2222222222222222,
              "#7201a8"
             ],
             [
              0.3333333333333333,
              "#9c179e"
             ],
             [
              0.4444444444444444,
              "#bd3786"
             ],
             [
              0.5555555555555556,
              "#d8576b"
             ],
             [
              0.6666666666666666,
              "#ed7953"
             ],
             [
              0.7777777777777778,
              "#fb9f3a"
             ],
             [
              0.8888888888888888,
              "#fdca26"
             ],
             [
              1,
              "#f0f921"
             ]
            ],
            "type": "contour"
           }
          ],
          "contourcarpet": [
           {
            "colorbar": {
             "outlinewidth": 0,
             "ticks": ""
            },
            "type": "contourcarpet"
           }
          ],
          "heatmap": [
           {
            "colorbar": {
             "outlinewidth": 0,
             "ticks": ""
            },
            "colorscale": [
             [
              0,
              "#0d0887"
             ],
             [
              0.1111111111111111,
              "#46039f"
             ],
             [
              0.2222222222222222,
              "#7201a8"
             ],
             [
              0.3333333333333333,
              "#9c179e"
             ],
             [
              0.4444444444444444,
              "#bd3786"
             ],
             [
              0.5555555555555556,
              "#d8576b"
             ],
             [
              0.6666666666666666,
              "#ed7953"
             ],
             [
              0.7777777777777778,
              "#fb9f3a"
             ],
             [
              0.8888888888888888,
              "#fdca26"
             ],
             [
              1,
              "#f0f921"
             ]
            ],
            "type": "heatmap"
           }
          ],
          "heatmapgl": [
           {
            "colorbar": {
             "outlinewidth": 0,
             "ticks": ""
            },
            "colorscale": [
             [
              0,
              "#0d0887"
             ],
             [
              0.1111111111111111,
              "#46039f"
             ],
             [
              0.2222222222222222,
              "#7201a8"
             ],
             [
              0.3333333333333333,
              "#9c179e"
             ],
             [
              0.4444444444444444,
              "#bd3786"
             ],
             [
              0.5555555555555556,
              "#d8576b"
             ],
             [
              0.6666666666666666,
              "#ed7953"
             ],
             [
              0.7777777777777778,
              "#fb9f3a"
             ],
             [
              0.8888888888888888,
              "#fdca26"
             ],
             [
              1,
              "#f0f921"
             ]
            ],
            "type": "heatmapgl"
           }
          ],
          "histogram": [
           {
            "marker": {
             "pattern": {
              "fillmode": "overlay",
              "size": 10,
              "solidity": 0.2
             }
            },
            "type": "histogram"
           }
          ],
          "histogram2d": [
           {
            "colorbar": {
             "outlinewidth": 0,
             "ticks": ""
            },
            "colorscale": [
             [
              0,
              "#0d0887"
             ],
             [
              0.1111111111111111,
              "#46039f"
             ],
             [
              0.2222222222222222,
              "#7201a8"
             ],
             [
              0.3333333333333333,
              "#9c179e"
             ],
             [
              0.4444444444444444,
              "#bd3786"
             ],
             [
              0.5555555555555556,
              "#d8576b"
             ],
             [
              0.6666666666666666,
              "#ed7953"
             ],
             [
              0.7777777777777778,
              "#fb9f3a"
             ],
             [
              0.8888888888888888,
              "#fdca26"
             ],
             [
              1,
              "#f0f921"
             ]
            ],
            "type": "histogram2d"
           }
          ],
          "histogram2dcontour": [
           {
            "colorbar": {
             "outlinewidth": 0,
             "ticks": ""
            },
            "colorscale": [
             [
              0,
              "#0d0887"
             ],
             [
              0.1111111111111111,
              "#46039f"
             ],
             [
              0.2222222222222222,
              "#7201a8"
             ],
             [
              0.3333333333333333,
              "#9c179e"
             ],
             [
              0.4444444444444444,
              "#bd3786"
             ],
             [
              0.5555555555555556,
              "#d8576b"
             ],
             [
              0.6666666666666666,
              "#ed7953"
             ],
             [
              0.7777777777777778,
              "#fb9f3a"
             ],
             [
              0.8888888888888888,
              "#fdca26"
             ],
             [
              1,
              "#f0f921"
             ]
            ],
            "type": "histogram2dcontour"
           }
          ],
          "mesh3d": [
           {
            "colorbar": {
             "outlinewidth": 0,
             "ticks": ""
            },
            "type": "mesh3d"
           }
          ],
          "parcoords": [
           {
            "line": {
             "colorbar": {
              "outlinewidth": 0,
              "ticks": ""
             }
            },
            "type": "parcoords"
           }
          ],
          "pie": [
           {
            "automargin": true,
            "type": "pie"
           }
          ],
          "scatter": [
           {
            "marker": {
             "colorbar": {
              "outlinewidth": 0,
              "ticks": ""
             }
            },
            "type": "scatter"
           }
          ],
          "scatter3d": [
           {
            "line": {
             "colorbar": {
              "outlinewidth": 0,
              "ticks": ""
             }
            },
            "marker": {
             "colorbar": {
              "outlinewidth": 0,
              "ticks": ""
             }
            },
            "type": "scatter3d"
           }
          ],
          "scattercarpet": [
           {
            "marker": {
             "colorbar": {
              "outlinewidth": 0,
              "ticks": ""
             }
            },
            "type": "scattercarpet"
           }
          ],
          "scattergeo": [
           {
            "marker": {
             "colorbar": {
              "outlinewidth": 0,
              "ticks": ""
             }
            },
            "type": "scattergeo"
           }
          ],
          "scattergl": [
           {
            "marker": {
             "colorbar": {
              "outlinewidth": 0,
              "ticks": ""
             }
            },
            "type": "scattergl"
           }
          ],
          "scattermapbox": [
           {
            "marker": {
             "colorbar": {
              "outlinewidth": 0,
              "ticks": ""
             }
            },
            "type": "scattermapbox"
           }
          ],
          "scatterpolar": [
           {
            "marker": {
             "colorbar": {
              "outlinewidth": 0,
              "ticks": ""
             }
            },
            "type": "scatterpolar"
           }
          ],
          "scatterpolargl": [
           {
            "marker": {
             "colorbar": {
              "outlinewidth": 0,
              "ticks": ""
             }
            },
            "type": "scatterpolargl"
           }
          ],
          "scatterternary": [
           {
            "marker": {
             "colorbar": {
              "outlinewidth": 0,
              "ticks": ""
             }
            },
            "type": "scatterternary"
           }
          ],
          "surface": [
           {
            "colorbar": {
             "outlinewidth": 0,
             "ticks": ""
            },
            "colorscale": [
             [
              0,
              "#0d0887"
             ],
             [
              0.1111111111111111,
              "#46039f"
             ],
             [
              0.2222222222222222,
              "#7201a8"
             ],
             [
              0.3333333333333333,
              "#9c179e"
             ],
             [
              0.4444444444444444,
              "#bd3786"
             ],
             [
              0.5555555555555556,
              "#d8576b"
             ],
             [
              0.6666666666666666,
              "#ed7953"
             ],
             [
              0.7777777777777778,
              "#fb9f3a"
             ],
             [
              0.8888888888888888,
              "#fdca26"
             ],
             [
              1,
              "#f0f921"
             ]
            ],
            "type": "surface"
           }
          ],
          "table": [
           {
            "cells": {
             "fill": {
              "color": "#EBF0F8"
             },
             "line": {
              "color": "white"
             }
            },
            "header": {
             "fill": {
              "color": "#C8D4E3"
             },
             "line": {
              "color": "white"
             }
            },
            "type": "table"
           }
          ]
         },
         "layout": {
          "annotationdefaults": {
           "arrowcolor": "#2a3f5f",
           "arrowhead": 0,
           "arrowwidth": 1
          },
          "autotypenumbers": "strict",
          "coloraxis": {
           "colorbar": {
            "outlinewidth": 0,
            "ticks": ""
           }
          },
          "colorscale": {
           "diverging": [
            [
             0,
             "#8e0152"
            ],
            [
             0.1,
             "#c51b7d"
            ],
            [
             0.2,
             "#de77ae"
            ],
            [
             0.3,
             "#f1b6da"
            ],
            [
             0.4,
             "#fde0ef"
            ],
            [
             0.5,
             "#f7f7f7"
            ],
            [
             0.6,
             "#e6f5d0"
            ],
            [
             0.7,
             "#b8e186"
            ],
            [
             0.8,
             "#7fbc41"
            ],
            [
             0.9,
             "#4d9221"
            ],
            [
             1,
             "#276419"
            ]
           ],
           "sequential": [
            [
             0,
             "#0d0887"
            ],
            [
             0.1111111111111111,
             "#46039f"
            ],
            [
             0.2222222222222222,
             "#7201a8"
            ],
            [
             0.3333333333333333,
             "#9c179e"
            ],
            [
             0.4444444444444444,
             "#bd3786"
            ],
            [
             0.5555555555555556,
             "#d8576b"
            ],
            [
             0.6666666666666666,
             "#ed7953"
            ],
            [
             0.7777777777777778,
             "#fb9f3a"
            ],
            [
             0.8888888888888888,
             "#fdca26"
            ],
            [
             1,
             "#f0f921"
            ]
           ],
           "sequentialminus": [
            [
             0,
             "#0d0887"
            ],
            [
             0.1111111111111111,
             "#46039f"
            ],
            [
             0.2222222222222222,
             "#7201a8"
            ],
            [
             0.3333333333333333,
             "#9c179e"
            ],
            [
             0.4444444444444444,
             "#bd3786"
            ],
            [
             0.5555555555555556,
             "#d8576b"
            ],
            [
             0.6666666666666666,
             "#ed7953"
            ],
            [
             0.7777777777777778,
             "#fb9f3a"
            ],
            [
             0.8888888888888888,
             "#fdca26"
            ],
            [
             1,
             "#f0f921"
            ]
           ]
          },
          "colorway": [
           "#636efa",
           "#EF553B",
           "#00cc96",
           "#ab63fa",
           "#FFA15A",
           "#19d3f3",
           "#FF6692",
           "#B6E880",
           "#FF97FF",
           "#FECB52"
          ],
          "font": {
           "color": "#2a3f5f"
          },
          "geo": {
           "bgcolor": "white",
           "lakecolor": "white",
           "landcolor": "#E5ECF6",
           "showlakes": true,
           "showland": true,
           "subunitcolor": "white"
          },
          "hoverlabel": {
           "align": "left"
          },
          "hovermode": "closest",
          "mapbox": {
           "style": "light"
          },
          "paper_bgcolor": "white",
          "plot_bgcolor": "#E5ECF6",
          "polar": {
           "angularaxis": {
            "gridcolor": "white",
            "linecolor": "white",
            "ticks": ""
           },
           "bgcolor": "#E5ECF6",
           "radialaxis": {
            "gridcolor": "white",
            "linecolor": "white",
            "ticks": ""
           }
          },
          "scene": {
           "xaxis": {
            "backgroundcolor": "#E5ECF6",
            "gridcolor": "white",
            "gridwidth": 2,
            "linecolor": "white",
            "showbackground": true,
            "ticks": "",
            "zerolinecolor": "white"
           },
           "yaxis": {
            "backgroundcolor": "#E5ECF6",
            "gridcolor": "white",
            "gridwidth": 2,
            "linecolor": "white",
            "showbackground": true,
            "ticks": "",
            "zerolinecolor": "white"
           },
           "zaxis": {
            "backgroundcolor": "#E5ECF6",
            "gridcolor": "white",
            "gridwidth": 2,
            "linecolor": "white",
            "showbackground": true,
            "ticks": "",
            "zerolinecolor": "white"
           }
          },
          "shapedefaults": {
           "line": {
            "color": "#2a3f5f"
           }
          },
          "ternary": {
           "aaxis": {
            "gridcolor": "white",
            "linecolor": "white",
            "ticks": ""
           },
           "baxis": {
            "gridcolor": "white",
            "linecolor": "white",
            "ticks": ""
           },
           "bgcolor": "#E5ECF6",
           "caxis": {
            "gridcolor": "white",
            "linecolor": "white",
            "ticks": ""
           }
          },
          "title": {
           "x": 0.05
          },
          "xaxis": {
           "automargin": true,
           "gridcolor": "white",
           "linecolor": "white",
           "ticks": "",
           "title": {
            "standoff": 15
           },
           "zerolinecolor": "white",
           "zerolinewidth": 2
          },
          "yaxis": {
           "automargin": true,
           "gridcolor": "white",
           "linecolor": "white",
           "ticks": "",
           "title": {
            "standoff": 15
           },
           "zerolinecolor": "white",
           "zerolinewidth": 2
          }
         }
        },
        "title": {
         "text": "Average reward over time of RL agent with policy epsilon=(0.1, 0.8)"
        },
        "xaxis": {
         "anchor": "y",
         "domain": [
          0,
          1
         ],
         "title": {
          "text": "Game number"
         }
        },
        "yaxis": {
         "anchor": "x",
         "domain": [
          0,
          1
         ],
         "title": {
          "text": "Average reward"
         }
        }
       }
      }
     },
     "metadata": {},
     "output_type": "display_data"
    }
   ],
   "source": [
    "epsilon = (0.1, 0.8)\n",
    "n_max = 500\n",
    "\n",
    "player_opt = OptimalPlayer(epsilon=0.5)\n",
    "agent = QlearningAgent(epsilon=epsilon, n_max=n_max)\n",
    "\n",
    "winnerList = play_games(player_opt, agent, maxGames=20_000)\n",
    "\n",
    "groupSize = 250\n",
    "x = np.arange(winnerList.size//groupSize-1)\n",
    "y = np.zeros(x.shape)\n",
    "for i in x:\n",
    "    y[i] = winnerList[i*groupSize:(i+1)*groupSize].mean()\n",
    "\n",
    "fig = px.line(x=groupSize*x, y=y, title=f'Average reward over time of RL agent with policy epsilon={epsilon}')\n",
    "fig.update_layout(xaxis_title='Game number', yaxis_title='Average reward')\n",
    "fig.show()"
   ]
  },
  {
   "cell_type": "markdown",
   "metadata": {},
   "source": [
    "."
   ]
  }
 ],
 "metadata": {
  "interpreter": {
   "hash": "b3ba2566441a7c06988d0923437866b63cedc61552a5af99d1f4fb67d367b25f"
  },
  "kernelspec": {
   "display_name": "Python 3.8.8 ('base')",
   "language": "python",
   "name": "python3"
  },
  "language_info": {
   "codemirror_mode": {
    "name": "ipython",
    "version": 3
   },
   "file_extension": ".py",
   "mimetype": "text/x-python",
   "name": "python",
   "nbconvert_exporter": "python",
   "pygments_lexer": "ipython3",
   "version": "3.8.8"
  },
  "orig_nbformat": 4
 },
 "nbformat": 4,
 "nbformat_minor": 2
}
